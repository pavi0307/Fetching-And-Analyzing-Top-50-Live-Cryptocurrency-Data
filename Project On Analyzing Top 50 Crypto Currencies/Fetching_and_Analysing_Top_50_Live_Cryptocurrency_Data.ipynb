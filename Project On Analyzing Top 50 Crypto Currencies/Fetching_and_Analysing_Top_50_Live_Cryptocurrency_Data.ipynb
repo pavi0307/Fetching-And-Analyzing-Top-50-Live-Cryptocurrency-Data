{
 "cells": [
  {
   "cell_type": "code",
   "execution_count": 1,
   "metadata": {},
   "outputs": [
    {
     "name": "stdout",
     "output_type": "stream",
     "text": [
      "Data saved to top_50_cryptos.xlsx\n"
     ]
    }
   ],
   "source": [
    "import requests\n",
    "import pandas as pd\n",
    "import warnings\n",
    "warnings.filterwarnings(\"ignore\")\n",
    "pd.set_option('display.max_columns',None)\n",
    "url = 'https://api.coingecko.com/api/v3/coins/markets'\n",
    "params = {'vs_currency': 'usd','order': 'market_cap_desc','per_page': 50,'page': 1}\n",
    "response = requests.get(url, params=params)\n",
    "data = response.json()\n",
    "cryptos = pd.DataFrame(data)\n",
    "cryptos = cryptos[['name', 'symbol', 'current_price', 'market_cap', 'total_volume', 'price_change_percentage_24h']]\n",
    "cryptos.to_excel('top_50_cryptos.xlsx', index=False, engine='openpyxl')\n",
    "print('Data saved to top_50_cryptos.xlsx')"
   ]
  },
  {
   "cell_type": "code",
   "execution_count": 2,
   "metadata": {},
   "outputs": [
    {
     "data": {
      "text/html": [
       "<div>\n",
       "<style scoped>\n",
       "    .dataframe tbody tr th:only-of-type {\n",
       "        vertical-align: middle;\n",
       "    }\n",
       "\n",
       "    .dataframe tbody tr th {\n",
       "        vertical-align: top;\n",
       "    }\n",
       "\n",
       "    .dataframe thead th {\n",
       "        text-align: right;\n",
       "    }\n",
       "</style>\n",
       "<table border=\"1\" class=\"dataframe\">\n",
       "  <thead>\n",
       "    <tr style=\"text-align: right;\">\n",
       "      <th></th>\n",
       "      <th>id</th>\n",
       "      <th>symbol</th>\n",
       "      <th>name</th>\n",
       "      <th>image</th>\n",
       "      <th>current_price</th>\n",
       "      <th>market_cap</th>\n",
       "      <th>market_cap_rank</th>\n",
       "      <th>fully_diluted_valuation</th>\n",
       "      <th>total_volume</th>\n",
       "      <th>high_24h</th>\n",
       "      <th>low_24h</th>\n",
       "      <th>price_change_24h</th>\n",
       "      <th>price_change_percentage_24h</th>\n",
       "      <th>market_cap_change_24h</th>\n",
       "      <th>market_cap_change_percentage_24h</th>\n",
       "      <th>circulating_supply</th>\n",
       "      <th>total_supply</th>\n",
       "      <th>max_supply</th>\n",
       "      <th>ath</th>\n",
       "      <th>ath_change_percentage</th>\n",
       "      <th>ath_date</th>\n",
       "      <th>atl</th>\n",
       "      <th>atl_change_percentage</th>\n",
       "      <th>atl_date</th>\n",
       "      <th>roi</th>\n",
       "      <th>last_updated</th>\n",
       "    </tr>\n",
       "  </thead>\n",
       "  <tbody>\n",
       "    <tr>\n",
       "      <th>0</th>\n",
       "      <td>bitcoin</td>\n",
       "      <td>btc</td>\n",
       "      <td>Bitcoin</td>\n",
       "      <td>https://coin-images.coingecko.com/coins/images...</td>\n",
       "      <td>88420.000000</td>\n",
       "      <td>1753016508221</td>\n",
       "      <td>1</td>\n",
       "      <td>1753016508221</td>\n",
       "      <td>59364891133</td>\n",
       "      <td>90694.00000</td>\n",
       "      <td>82353.00000</td>\n",
       "      <td>6054.870000</td>\n",
       "      <td>7.35129</td>\n",
       "      <td>1.233485e+11</td>\n",
       "      <td>7.56893</td>\n",
       "      <td>1.983258e+07</td>\n",
       "      <td>1.983258e+07</td>\n",
       "      <td>2.100000e+07</td>\n",
       "      <td>108786.00</td>\n",
       "      <td>-18.84733</td>\n",
       "      <td>2025-01-20T09:11:54.494Z</td>\n",
       "      <td>67.810000</td>\n",
       "      <td>1.300927e+05</td>\n",
       "      <td>2013-07-06T00:00:00.000Z</td>\n",
       "      <td>None</td>\n",
       "      <td>2025-03-05T15:27:51.509Z</td>\n",
       "    </tr>\n",
       "    <tr>\n",
       "      <th>1</th>\n",
       "      <td>ethereum</td>\n",
       "      <td>eth</td>\n",
       "      <td>Ethereum</td>\n",
       "      <td>https://coin-images.coingecko.com/coins/images...</td>\n",
       "      <td>2181.590000</td>\n",
       "      <td>262912088332</td>\n",
       "      <td>2</td>\n",
       "      <td>262912088332</td>\n",
       "      <td>27980158513</td>\n",
       "      <td>2275.16000</td>\n",
       "      <td>2022.69000</td>\n",
       "      <td>125.970000</td>\n",
       "      <td>6.12815</td>\n",
       "      <td>1.575726e+10</td>\n",
       "      <td>6.37546</td>\n",
       "      <td>1.205925e+08</td>\n",
       "      <td>1.205925e+08</td>\n",
       "      <td>NaN</td>\n",
       "      <td>4878.26</td>\n",
       "      <td>-55.40123</td>\n",
       "      <td>2021-11-10T14:24:19.604Z</td>\n",
       "      <td>0.432979</td>\n",
       "      <td>5.023828e+05</td>\n",
       "      <td>2015-10-20T00:00:00.000Z</td>\n",
       "      <td>{'times': 32.00294295157415, 'currency': 'btc'...</td>\n",
       "      <td>2025-03-05T15:27:56.198Z</td>\n",
       "    </tr>\n",
       "    <tr>\n",
       "      <th>2</th>\n",
       "      <td>tether</td>\n",
       "      <td>usdt</td>\n",
       "      <td>Tether</td>\n",
       "      <td>https://coin-images.coingecko.com/coins/images...</td>\n",
       "      <td>0.999916</td>\n",
       "      <td>142483796166</td>\n",
       "      <td>3</td>\n",
       "      <td>142483796166</td>\n",
       "      <td>95662563932</td>\n",
       "      <td>0.99999</td>\n",
       "      <td>0.99919</td>\n",
       "      <td>0.000718</td>\n",
       "      <td>0.07184</td>\n",
       "      <td>7.978942e+07</td>\n",
       "      <td>0.05603</td>\n",
       "      <td>1.424954e+11</td>\n",
       "      <td>1.424954e+11</td>\n",
       "      <td>NaN</td>\n",
       "      <td>1.32</td>\n",
       "      <td>-24.42505</td>\n",
       "      <td>2018-07-24T00:00:00.000Z</td>\n",
       "      <td>0.572521</td>\n",
       "      <td>7.465360e+01</td>\n",
       "      <td>2015-03-02T00:00:00.000Z</td>\n",
       "      <td>None</td>\n",
       "      <td>2025-03-05T15:27:56.049Z</td>\n",
       "    </tr>\n",
       "    <tr>\n",
       "      <th>3</th>\n",
       "      <td>ripple</td>\n",
       "      <td>xrp</td>\n",
       "      <td>XRP</td>\n",
       "      <td>https://coin-images.coingecko.com/coins/images...</td>\n",
       "      <td>2.440000</td>\n",
       "      <td>141461860244</td>\n",
       "      <td>4</td>\n",
       "      <td>244078078436</td>\n",
       "      <td>6868420048</td>\n",
       "      <td>2.54000</td>\n",
       "      <td>2.34000</td>\n",
       "      <td>0.103196</td>\n",
       "      <td>4.41295</td>\n",
       "      <td>6.384403e+09</td>\n",
       "      <td>4.72648</td>\n",
       "      <td>5.794974e+10</td>\n",
       "      <td>9.998639e+10</td>\n",
       "      <td>1.000000e+11</td>\n",
       "      <td>3.40</td>\n",
       "      <td>-28.07299</td>\n",
       "      <td>2018-01-07T00:00:00.000Z</td>\n",
       "      <td>0.002686</td>\n",
       "      <td>9.089834e+04</td>\n",
       "      <td>2014-05-22T00:00:00.000Z</td>\n",
       "      <td>None</td>\n",
       "      <td>2025-03-05T15:27:51.085Z</td>\n",
       "    </tr>\n",
       "    <tr>\n",
       "      <th>4</th>\n",
       "      <td>binancecoin</td>\n",
       "      <td>bnb</td>\n",
       "      <td>BNB</td>\n",
       "      <td>https://coin-images.coingecko.com/coins/images...</td>\n",
       "      <td>591.020000</td>\n",
       "      <td>86197444779</td>\n",
       "      <td>5</td>\n",
       "      <td>86197444779</td>\n",
       "      <td>911418964</td>\n",
       "      <td>607.56000</td>\n",
       "      <td>560.33000</td>\n",
       "      <td>26.540000</td>\n",
       "      <td>4.70190</td>\n",
       "      <td>4.056081e+09</td>\n",
       "      <td>4.93793</td>\n",
       "      <td>1.458876e+08</td>\n",
       "      <td>1.458876e+08</td>\n",
       "      <td>2.000000e+08</td>\n",
       "      <td>788.84</td>\n",
       "      <td>-25.23787</td>\n",
       "      <td>2024-12-04T10:35:25.220Z</td>\n",
       "      <td>0.039818</td>\n",
       "      <td>1.481041e+06</td>\n",
       "      <td>2017-10-19T00:00:00.000Z</td>\n",
       "      <td>None</td>\n",
       "      <td>2025-03-05T15:27:51.129Z</td>\n",
       "    </tr>\n",
       "  </tbody>\n",
       "</table>\n",
       "</div>"
      ],
      "text/plain": [
       "            id symbol      name  \\\n",
       "0      bitcoin    btc   Bitcoin   \n",
       "1     ethereum    eth  Ethereum   \n",
       "2       tether   usdt    Tether   \n",
       "3       ripple    xrp       XRP   \n",
       "4  binancecoin    bnb       BNB   \n",
       "\n",
       "                                               image  current_price  \\\n",
       "0  https://coin-images.coingecko.com/coins/images...   88420.000000   \n",
       "1  https://coin-images.coingecko.com/coins/images...    2181.590000   \n",
       "2  https://coin-images.coingecko.com/coins/images...       0.999916   \n",
       "3  https://coin-images.coingecko.com/coins/images...       2.440000   \n",
       "4  https://coin-images.coingecko.com/coins/images...     591.020000   \n",
       "\n",
       "      market_cap  market_cap_rank  fully_diluted_valuation  total_volume  \\\n",
       "0  1753016508221                1            1753016508221   59364891133   \n",
       "1   262912088332                2             262912088332   27980158513   \n",
       "2   142483796166                3             142483796166   95662563932   \n",
       "3   141461860244                4             244078078436    6868420048   \n",
       "4    86197444779                5              86197444779     911418964   \n",
       "\n",
       "      high_24h      low_24h  price_change_24h  price_change_percentage_24h  \\\n",
       "0  90694.00000  82353.00000       6054.870000                      7.35129   \n",
       "1   2275.16000   2022.69000        125.970000                      6.12815   \n",
       "2      0.99999      0.99919          0.000718                      0.07184   \n",
       "3      2.54000      2.34000          0.103196                      4.41295   \n",
       "4    607.56000    560.33000         26.540000                      4.70190   \n",
       "\n",
       "   market_cap_change_24h  market_cap_change_percentage_24h  \\\n",
       "0           1.233485e+11                           7.56893   \n",
       "1           1.575726e+10                           6.37546   \n",
       "2           7.978942e+07                           0.05603   \n",
       "3           6.384403e+09                           4.72648   \n",
       "4           4.056081e+09                           4.93793   \n",
       "\n",
       "   circulating_supply  total_supply    max_supply        ath  \\\n",
       "0        1.983258e+07  1.983258e+07  2.100000e+07  108786.00   \n",
       "1        1.205925e+08  1.205925e+08           NaN    4878.26   \n",
       "2        1.424954e+11  1.424954e+11           NaN       1.32   \n",
       "3        5.794974e+10  9.998639e+10  1.000000e+11       3.40   \n",
       "4        1.458876e+08  1.458876e+08  2.000000e+08     788.84   \n",
       "\n",
       "   ath_change_percentage                  ath_date        atl  \\\n",
       "0              -18.84733  2025-01-20T09:11:54.494Z  67.810000   \n",
       "1              -55.40123  2021-11-10T14:24:19.604Z   0.432979   \n",
       "2              -24.42505  2018-07-24T00:00:00.000Z   0.572521   \n",
       "3              -28.07299  2018-01-07T00:00:00.000Z   0.002686   \n",
       "4              -25.23787  2024-12-04T10:35:25.220Z   0.039818   \n",
       "\n",
       "   atl_change_percentage                  atl_date  \\\n",
       "0           1.300927e+05  2013-07-06T00:00:00.000Z   \n",
       "1           5.023828e+05  2015-10-20T00:00:00.000Z   \n",
       "2           7.465360e+01  2015-03-02T00:00:00.000Z   \n",
       "3           9.089834e+04  2014-05-22T00:00:00.000Z   \n",
       "4           1.481041e+06  2017-10-19T00:00:00.000Z   \n",
       "\n",
       "                                                 roi              last_updated  \n",
       "0                                               None  2025-03-05T15:27:51.509Z  \n",
       "1  {'times': 32.00294295157415, 'currency': 'btc'...  2025-03-05T15:27:56.198Z  \n",
       "2                                               None  2025-03-05T15:27:56.049Z  \n",
       "3                                               None  2025-03-05T15:27:51.085Z  \n",
       "4                                               None  2025-03-05T15:27:51.129Z  "
      ]
     },
     "execution_count": 2,
     "metadata": {},
     "output_type": "execute_result"
    }
   ],
   "source": [
    "crypto_data=pd.DataFrame(data)\n",
    "crypto_data.head()"
   ]
  },
  {
   "cell_type": "code",
   "execution_count": 3,
   "metadata": {},
   "outputs": [
    {
     "name": "stdout",
     "output_type": "stream",
     "text": [
      "Top 5 Cryptos by Market Cap:\n",
      "       name     market_cap\n",
      "0   Bitcoin  1753016508221\n",
      "1  Ethereum   262912088332\n",
      "2    Tether   142483796166\n",
      "3       XRP   141461860244\n",
      "4       BNB    86197444779\n",
      "Average Price of Top 50 Cryptos: $5570.20\n",
      "Highest 24-Hour Price Change:\n",
      "name                           Bitcoin Cash\n",
      "price_change_percentage_24h        27.23607\n",
      "Name: 22, dtype: object\n",
      "Lowest 24-Hour Price Change:\n",
      "name                           LEO Token\n",
      "price_change_percentage_24h     -0.87464\n",
      "Name: 16, dtype: object\n"
     ]
    }
   ],
   "source": [
    "top_5_by_market_cap = cryptos[['name', 'market_cap']].sort_values(by='market_cap', ascending=False).head(5)\n",
    "average_price = cryptos['current_price'].mean()\n",
    "highest_change = cryptos[['name', 'price_change_percentage_24h']].sort_values(by='price_change_percentage_24h', ascending=False).iloc[0]\n",
    "lowest_change = cryptos[['name', 'price_change_percentage_24h']].sort_values(by='price_change_percentage_24h', ascending=True).iloc[0]\n",
    "print(\"Top 5 Cryptos by Market Cap:\")\n",
    "print(top_5_by_market_cap)\n",
    "print(f\"Average Price of Top 50 Cryptos: ${average_price:.2f}\")\n",
    "print(\"Highest 24-Hour Price Change:\")\n",
    "print(highest_change)\n",
    "print(\"Lowest 24-Hour Price Change:\")\n",
    "print(lowest_change)\n"
   ]
  },
  {
   "cell_type": "code",
   "execution_count": 4,
   "metadata": {},
   "outputs": [
    {
     "data": {
      "image/png": "[encoded data removed]",
      "text/plain": [
       "<Figure size 800x600 with 1 Axes>"
      ]
     },
     "metadata": {},
     "output_type": "display_data"
    }
   ],
   "source": [
    "import matplotlib.pyplot as plt\n",
    "import seaborn as sns\n",
    "plt.figure(figsize=(8,6))\n",
    "sns.barplot(x='market_cap', y='name', data=top_5_by_market_cap, palette='viridis')\n",
    "plt.title('Top 5 Cryptocurrencies by Market Capitalization', fontsize=16)\n",
    "plt.xlabel('Market Capitalization(USD)', fontsize=12)\n",
    "plt.ylabel('Cryptocurrency Name', fontsize=12)\n",
    "plt.savefig('top_5_crypto-currencies.png',format='png',dpi=300,bbox_inches='tight')\n",
    "plt.show()"
   ]
  },
  {
   "cell_type": "code",
   "execution_count": 5,
   "metadata": {},
   "outputs": [
    {
     "data": {
      "image/png": "[encoded data removed]",
      "text/plain": [
       "<Figure size 800x600 with 1 Axes>"
      ]
     },
     "metadata": {},
     "output_type": "display_data"
    }
   ],
   "source": [
    "plt.figure(figsize=(8,6))\n",
    "sns.histplot(crypto_data['current_price'],bins=20,kde=True,color='blue')\n",
    "plt.title('Distributions of Crypto-Currency Prices')\n",
    "plt.xlabel('Price (USD)')\n",
    "plt.ylabel('Frequency')\n",
    "plt.savefig('Distributions_Of_Crypto-Currency_Prices.png',format='png',dpi=300,bbox_inches='tight')\n",
    "plt.show()"
   ]
  },
  {
   "cell_type": "code",
   "execution_count": 6,
   "metadata": {},
   "outputs": [
    {
     "name": "stdout",
     "output_type": "stream",
     "text": [
      "Highest 24-Hour Price Change:Bitcoin Cash(27.23607%)\n",
      "Lowest 24-Hour Price Change:LEO Token(-0.87464%)\n"
     ]
    }
   ],
   "source": [
    "highest_change=crypto_data.iloc[crypto_data['price_change_percentage_24h'].idxmax()]\n",
    "lowest_change=crypto_data.iloc[crypto_data['price_change_percentage_24h'].idxmin()]\n",
    "print(f'Highest 24-Hour Price Change:{highest_change['name']}({highest_change['price_change_percentage_24h']}%)')\n",
    "print(f'Lowest 24-Hour Price Change:{lowest_change['name']}({lowest_change['price_change_percentage_24h']}%)')"
   ]
  },
  {
   "cell_type": "code",
   "execution_count": 7,
   "metadata": {},
   "outputs": [
    {
     "data": {
      "image/png": "[encoded data removed]",
      "text/plain": [
       "<Figure size 1000x600 with 1 Axes>"
      ]
     },
     "metadata": {},
     "output_type": "display_data"
    }
   ],
   "source": [
    "sorted_crypto_data=crypto_data.sort_values('price_change_percentage_24h',ascending=True)\n",
    "highest_change=sorted_crypto_data.loc[sorted_crypto_data['price_change_percentage_24h'].idxmax()]\n",
    "lowest_change=sorted_crypto_data.loc[sorted_crypto_data['price_change_percentage_24h'].idxmin()]\n",
    "plt.figure(figsize=(10,6))\n",
    "sns.barplot(x='price_change_percentage_24h',y='name',data=pd.DataFrame([highest_change,lowest_change]),palette=['green' if x>0 else 'red' for x in [highest_change['price_change_percentage_24h'],lowest_change['price_change_percentage_24h']]])\n",
    "plt.title('Highest and Lowest 24-Hour Price Changes')\n",
    "plt.xlabel('Price Change(%)')\n",
    "plt.ylabel('Crypto-Currency')\n",
    "plt.text(highest_change['price_change_percentage_24h'],0,f'Highest:Aave({highest_change['price_change_percentage_24h']}%)',color='black')\n",
    "plt.text(lowest_change['price_change_percentage_24h'],1,f'Lowest({lowest_change['price_change_percentage_24h']}%)',color='black')\n",
    "plt.tight_layout()\n",
    "plt.savefig('Highest_and_Lowest_24-Hour_Price_Changes.png',format='png',dpi=300,bbox_inches='tight')\n",
    "plt.show()"
   ]
  },
  {
   "cell_type": "code",
   "execution_count": 8,
   "metadata": {},
   "outputs": [
    {
     "name": "stdout",
     "output_type": "stream",
     "text": [
      "Data updated in top_50_cryptos.xlsx\n",
      "Data updated in top_50_cryptos.xlsx\n",
      "Data updated in top_50_cryptos.xlsx\n",
      "Data updated in top_50_cryptos.xlsx\n",
      "Data updated in top_50_cryptos.xlsx\n",
      "Data updated in top_50_cryptos.xlsx\n",
      "Data updated in top_50_cryptos.xlsx\n",
      "Data updated in top_50_cryptos.xlsx\n",
      "Data updated in top_50_cryptos.xlsx\n",
      "Data updated in top_50_cryptos.xlsx\n",
      "Data updated in top_50_cryptos.xlsx\n",
      "Data updated in top_50_cryptos.xlsx\n"
     ]
    },
    {
     "ename": "KeyboardInterrupt",
     "evalue": "",
     "output_type": "error",
     "traceback": [
      "\u001b[31m---------------------------------------------------------------------------\u001b[39m",
      "\u001b[31mKeyboardInterrupt\u001b[39m                         Traceback (most recent call last)",
      "\u001b[36mCell\u001b[39m\u001b[36m \u001b[39m\u001b[32mIn[8]\u001b[39m\u001b[32m, line 9\u001b[39m\n\u001b[32m      7\u001b[39m cryptos.to_excel(\u001b[33m'\u001b[39m\u001b[33mtop_50_cryptos.xlsx\u001b[39m\u001b[33m'\u001b[39m, index=\u001b[38;5;28;01mFalse\u001b[39;00m, engine=\u001b[33m'\u001b[39m\u001b[33mopenpyxl\u001b[39m\u001b[33m'\u001b[39m)\n\u001b[32m      8\u001b[39m \u001b[38;5;28mprint\u001b[39m(\u001b[33m'\u001b[39m\u001b[33mData updated in top_50_cryptos.xlsx\u001b[39m\u001b[33m'\u001b[39m)\n\u001b[32m----> \u001b[39m\u001b[32m9\u001b[39m \u001b[43mtime\u001b[49m\u001b[43m.\u001b[49m\u001b[43msleep\u001b[49m\u001b[43m(\u001b[49m\u001b[32;43m100\u001b[39;49m\u001b[43m)\u001b[49m \n",
      "\u001b[31mKeyboardInterrupt\u001b[39m: "
     ]
    }
   ],
   "source": [
    "import time\n",
    "while True:\n",
    "    response = requests.get(url, params=params)\n",
    "    data = response.json()\n",
    "    cryptos = pd.DataFrame(data)\n",
    "    cryptos = cryptos[['name', 'symbol', 'current_price', 'market_cap', 'total_volume', 'price_change_percentage_24h']]\n",
    "    cryptos.to_excel('top_50_cryptos.xlsx', index=False, engine='openpyxl')\n",
    "    print('Data updated in top_50_cryptos.xlsx')\n",
    "    time.sleep(100) "
   ]
  },
  {
   "cell_type": "code",
   "execution_count": 9,
   "metadata": {},
   "outputs": [
    {
     "name": "stdout",
     "output_type": "stream",
     "text": [
      "Collecting fpdf\n",
      "  Downloading fpdf-1.7.2.tar.gz (39 kB)\n",
      "  Installing build dependencies: started\n",
      "  Installing build dependencies: finished with status 'done'\n",
      "  Getting requirements to build wheel: started\n",
      "  Getting requirements to build wheel: finished with status 'done'\n",
      "  Preparing metadata (pyproject.toml): started\n",
      "  Preparing metadata (pyproject.toml): finished with status 'done'\n",
      "Building wheels for collected packages: fpdf\n",
      "  Building wheel for fpdf (pyproject.toml): started\n",
      "  Building wheel for fpdf (pyproject.toml): finished with status 'done'\n",
      "  Created wheel for fpdf: filename=fpdf-1.7.2-py2.py3-none-any.whl size=40767 sha256=849d54244756899b834bd9b8be400f20ff96c191a4b4b3dd417bad9812c823df\n",
      "  Stored in directory: c:\\users\\dell\\appdata\\local\\pip\\cache\\wheels\\aa\\da\\11\\a3189f34ddc13c26a2d0f329eac46b728c7f31c39e4dc26243\n",
      "Successfully built fpdf\n",
      "Installing collected packages: fpdf\n",
      "Successfully installed fpdf-1.7.2\n",
      "Note: you may need to restart the kernel to use updated packages.\n"
     ]
    }
   ],
   "source": [
    "pip install fpdf"
   ]
  },
  {
   "cell_type": "code",
   "execution_count": 10,
   "metadata": {},
   "outputs": [
    {
     "name": "stdout",
     "output_type": "stream",
     "text": [
      "PDF saved as Cryptocurrency_Analysis_Report.pdf\n"
     ]
    }
   ],
   "source": [
    "from fpdf import FPDF\n",
    "class PDF(FPDF):\n",
    "    def header(self):\n",
    "        self.set_font('Arial', 'B', 14)\n",
    "        self.cell(0, 10, 'Cryptocurrency Analysis Report', align='C', ln=True)\n",
    "\n",
    "    def footer(self):\n",
    "        self.set_y(-15)\n",
    "        self.set_font('Arial', 'I', 10)\n",
    "        self.cell(0, 10, f'Page {self.page_no()}', align='C')\n",
    "pdf = PDF()\n",
    "pdf.add_page()\n",
    "pdf.set_font('Arial', 'B', 16)\n",
    "pdf.cell(0, 10, \"Cryptocurrency Analysis\", ln=True, align='C')\n",
    "pdf.ln(10)\n",
    "pdf.set_font('Arial', 'B', 12)\n",
    "pdf.cell(0, 10, \"Summary of Data Analysis:\", ln=True)\n",
    "pdf.set_font('Arial', '', 12)\n",
    "pdf.multi_cell(0, 10, \n",
    "    \"1. The top 5 cryptocurrencies by market capitalization are displayed.\\n\"\n",
    "    \"2. The average price of the top 50 cryptocurrencies was calculated.\\n\"\n",
    "    \"3. The cryptocurrency with the highest 24-hour percentage price change was 'Aave'.\\n\"\n",
    "    \"4. The cryptocurrency with the lowest 24-hour percentage price change was 'HyperLiquid'.\"\n",
    ")\n",
    "pdf.ln(10)\n",
    "pdf.set_font('Arial', 'B', 12)\n",
    "pdf.cell(0, 10, \"Visualizations:\", ln=True)\n",
    "pdf.ln(5)\n",
    "pdf.cell(0, 10, \"1. Top 5 Cryptocurrencies by Market Capitalization:\", ln=True)\n",
    "pdf.image(\"top_5_crypto-currencies.png\", x=50, w=100)\n",
    "pdf.ln(10)\n",
    "pdf.cell(0, 10, \"2. Distribution of Cryptocurrency Prices:\", ln=True)\n",
    "pdf.image(\"Distributions_Of_Crypto-Currency_Prices.png\", x=50, w=100)\n",
    "pdf.ln(10)\n",
    "pdf.cell(0, 10, \"3. Highest and Lowest 24-Hour Percentage Price Change:\", ln=True)\n",
    "pdf.image(\"Highest_and_Lowest_24-Hour_Price_Changes.png\", x=50, w=100)\n",
    "pdf.ln(10)\n",
    "pdf_file_name = \"Cryptocurrency_Analysis_Report.pdf\"\n",
    "pdf.output(pdf_file_name)\n",
    "print(f\"PDF saved as {pdf_file_name}\")\n"
   ]
  }
 ],
 "metadata": {
  "kernelspec": {
   "display_name": "Python 3",
   "language": "python",
   "name": "python3"
  },
  "language_info": {
   "codemirror_mode": {
    "name": "ipython",
    "version": 3
   },
   "file_extension": ".py",
   "mimetype": "text/x-python",
   "name": "python",
   "nbconvert_exporter": "python",
   "pygments_lexer": "ipython3",
   "version": "3.13.2"
  }
 },
 "nbformat": 4,
 "nbformat_minor": 2
}
